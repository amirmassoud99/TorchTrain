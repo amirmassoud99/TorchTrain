{
  "nbformat": 4,
  "nbformat_minor": 0,
  "metadata": {
    "colab": {
      "provenance": [],
      "gpuType": "T4",
      "authorship_tag": "ABX9TyPPQJmMEH7nfsqnzSPj/Ndp",
      "include_colab_link": true
    },
    "kernelspec": {
      "name": "python3",
      "display_name": "Python 3"
    },
    "language_info": {
      "name": "python"
    }
  },
  "cells": [
    {
      "cell_type": "markdown",
      "metadata": {
        "id": "view-in-github",
        "colab_type": "text"
      },
      "source": [
        "<a href=\"https://colab.research.google.com/github/amirmassoud99/TorchTrain/blob/main/Training_Pytorch.ipynb\" target=\"_parent\"><img src=\"https://colab.research.google.com/assets/colab-badge.svg\" alt=\"Open In Colab\"/></a>"
      ]
    },
    {
      "cell_type": "code",
      "source": [
        "import torch\n",
        "import torch.nn as nn\n",
        "import torch.nn.functional as F"
      ],
      "metadata": {
        "id": "QiPje2QH0w0E"
      },
      "execution_count": null,
      "outputs": []
    },
    {
      "cell_type": "code",
      "source": [
        "# prompt: create a network class with input, h1, h2 and output layers. Fully connected with 8 nodes. Input has 4 nodes and output has 3 nodes\n",
        "\n",
        "import torch\n",
        "import torch.nn as nn\n",
        "import torch.nn.functional as F\n",
        "\n",
        "class Model(nn.Module):\n",
        "    def __init__(self):\n",
        "        super().__init__()\n",
        "        self.fc1 = nn.Linear(4, 8)\n",
        "        self.fc2 = nn.Linear(8, 8)\n",
        "        self.fc3 = nn.Linear(8, 3)\n",
        "\n",
        "    def forward(self, x):\n",
        "        x = F.relu(self.fc1(x))\n",
        "        x = F.relu(self.fc2(x))\n",
        "        x = self.fc3(x)\n",
        "        return x\n"
      ],
      "metadata": {
        "id": "AjkJlVGyoBiU"
      },
      "execution_count": null,
      "outputs": []
    },
    {
      "cell_type": "code",
      "source": [
        "torch.manual_seed(41)\n",
        "#Instantiate model\n",
        "model = Model()"
      ],
      "metadata": {
        "id": "kl60kiAxpphr"
      },
      "execution_count": 5,
      "outputs": []
    },
    {
      "cell_type": "code",
      "source": [
        "# prompt: import plot functionality and inline plotting\n",
        "\n",
        "%matplotlib inline\n",
        "import matplotlib.pyplot as plt\n",
        "import pandas as pd\n"
      ],
      "metadata": {
        "id": "AdA4whUzsiDR"
      },
      "execution_count": 7,
      "outputs": []
    },
    {
      "cell_type": "code",
      "source": [
        "# prompt: read a csv data base from this url: https://gist.githubusercontent.com/netj/8836201/raw/6f9306ad21398ea43cba4f7d537619d0e07d5ae3/iris.csv\n",
        "\n",
        "import pandas as pd\n",
        "url = 'https://gist.githubusercontent.com/netj/8836201/raw/6f9306ad21398ea43cba4f7d537619d0e07d5ae3/iris.csv'\n",
        "df = pd.read_csv(url)\n",
        "print(df.head())\n"
      ],
      "metadata": {
        "colab": {
          "base_uri": "https://localhost:8080/"
        },
        "id": "I5HE0zIwsvJ_",
        "outputId": "4bfe2873-d7fb-4f24-c775-1f3ef7b24ac1"
      },
      "execution_count": 15,
      "outputs": [
        {
          "output_type": "stream",
          "name": "stdout",
          "text": [
            "   sepal.length  sepal.width  petal.length  petal.width variety\n",
            "0           5.1          3.5           1.4          0.2  Setosa\n",
            "1           4.9          3.0           1.4          0.2  Setosa\n",
            "2           4.7          3.2           1.3          0.2  Setosa\n",
            "3           4.6          3.1           1.5          0.2  Setosa\n",
            "4           5.0          3.6           1.4          0.2  Setosa\n"
          ]
        }
      ]
    },
    {
      "cell_type": "code",
      "source": [
        "# prompt: replace the last column with numbers for each variety\n",
        "\n",
        "# Replace the last column with numbers for each variety\n",
        "variety_mapping = {'Setosa': 0.0, 'Versicolor': 1.0, 'Virginica': 2.0}\n",
        "df['variety'] = df['variety'].map(variety_mapping)\n",
        "\n",
        "print(df.head())\n"
      ],
      "metadata": {
        "colab": {
          "base_uri": "https://localhost:8080/"
        },
        "id": "fMhLQYl_2hIJ",
        "outputId": "d27bddde-8525-4fdf-a073-a8415a49ef85"
      },
      "execution_count": 16,
      "outputs": [
        {
          "output_type": "stream",
          "name": "stdout",
          "text": [
            "   sepal.length  sepal.width  petal.length  petal.width  variety\n",
            "0           5.1          3.5           1.4          0.2      0.0\n",
            "1           4.9          3.0           1.4          0.2      0.0\n",
            "2           4.7          3.2           1.3          0.2      0.0\n",
            "3           4.6          3.1           1.5          0.2      0.0\n",
            "4           5.0          3.6           1.4          0.2      0.0\n"
          ]
        }
      ]
    },
    {
      "cell_type": "code",
      "source": [
        "# prompt: remove the variety and split the data in df to create a training set\n",
        "\n",
        "from sklearn.model_selection import train_test_split\n",
        "\n",
        "# Assuming df is already defined and preprocessed as in the previous code\n",
        "\n",
        "# Separate features (X) and target variable (y)\n",
        "X = df.drop('variety', axis=1).values\n",
        "y = df['variety'].values\n",
        "\n",
        "# Split data into training and testing sets\n",
        "X_train, X_test, y_train, y_test = train_test_split(X, y, test_size=0.2, random_state=41) # 80% train, 20% test\n",
        "\n",
        "# Now you have X_train, X_test, y_train, and y_test for your model\n",
        "# Example usage:\n",
        "# model.fit(X_train, y_train)\n",
        "# predictions = model.predict(X_test)\n"
      ],
      "metadata": {
        "id": "et6gFgPS3qlo"
      },
      "execution_count": 23,
      "outputs": []
    },
    {
      "cell_type": "code",
      "source": [
        "X_train = torch.FloatTensor(X_train)\n",
        "X_test = torch.FloatTensor(X_test)\n",
        "y_train = torch.LongTensor(y_train)\n",
        "y_test = torch.LongTensor(y_test)"
      ],
      "metadata": {
        "id": "Hjwl9DFq667y"
      },
      "execution_count": 27,
      "outputs": []
    },
    {
      "cell_type": "code",
      "source": [
        "criterion = nn.CrossEntropyLoss()\n",
        "optimizer = torch.optim.Adam(model.parameters(), lr=0.001)"
      ],
      "metadata": {
        "id": "BFIHUqLH7FBV"
      },
      "execution_count": 39,
      "outputs": []
    },
    {
      "cell_type": "code",
      "source": [
        "epochs = 1000\n",
        "losses = []\n",
        "for i in range(epochs):\n",
        "    y_pred = model.forward(X_train)\n",
        "    loss = criterion(y_pred, y_train)\n",
        "    losses.append(loss.detach().numpy())\n",
        "    #if i % 10 == 0:\n",
        "    #  print(f'Epoch: {i} Loss: {loss}')\n",
        "    optimizer.zero_grad()\n",
        "    loss.backward()\n",
        "    optimizer.step()"
      ],
      "metadata": {
        "colab": {
          "base_uri": "https://localhost:8080/"
        },
        "id": "su2w3bf67qHW",
        "outputId": "977d7750-68a1-4867-8454-1313887499c5"
      },
      "execution_count": 42,
      "outputs": [
        {
          "output_type": "stream",
          "name": "stdout",
          "text": [
            "Epoch: 0 Loss: 0.015638377517461777\n",
            "Epoch: 10 Loss: 0.015297781676054\n",
            "Epoch: 20 Loss: 0.01496267318725586\n",
            "Epoch: 30 Loss: 0.01463285181671381\n",
            "Epoch: 40 Loss: 0.014308099634945393\n",
            "Epoch: 50 Loss: 0.01398822758346796\n",
            "Epoch: 60 Loss: 0.013673180714249611\n",
            "Epoch: 70 Loss: 0.013362829573452473\n",
            "Epoch: 80 Loss: 0.013057163916528225\n",
            "Epoch: 90 Loss: 0.012756051495671272\n",
            "Epoch: 100 Loss: 0.0124594671651721\n",
            "Epoch: 110 Loss: 0.012167633511126041\n",
            "Epoch: 120 Loss: 0.011880612932145596\n",
            "Epoch: 130 Loss: 0.011598150245845318\n",
            "Epoch: 140 Loss: 0.011320208199322224\n",
            "Epoch: 150 Loss: 0.01104672159999609\n",
            "Epoch: 160 Loss: 0.010777892544865608\n",
            "Epoch: 170 Loss: 0.010513733141124249\n",
            "Epoch: 180 Loss: 0.01025431975722313\n",
            "Epoch: 190 Loss: 0.009999739937484264\n",
            "Epoch: 200 Loss: 0.009750038385391235\n",
            "Epoch: 210 Loss: 0.009505449794232845\n",
            "Epoch: 220 Loss: 0.00926629826426506\n",
            "Epoch: 230 Loss: 0.009032060392200947\n",
            "Epoch: 240 Loss: 0.008802789263427258\n",
            "Epoch: 250 Loss: 0.008578433655202389\n",
            "Epoch: 260 Loss: 0.008359045721590519\n",
            "Epoch: 270 Loss: 0.008144578896462917\n",
            "Epoch: 280 Loss: 0.00793507881462574\n",
            "Epoch: 290 Loss: 0.007730504963546991\n",
            "Epoch: 300 Loss: 0.0075308880768716335\n",
            "Epoch: 310 Loss: 0.00733616529032588\n",
            "Epoch: 320 Loss: 0.00714625371620059\n",
            "Epoch: 330 Loss: 0.0069611757062375546\n",
            "Epoch: 340 Loss: 0.006780856754630804\n",
            "Epoch: 350 Loss: 0.006605206057429314\n",
            "Epoch: 360 Loss: 0.006434142589569092\n",
            "Epoch: 370 Loss: 0.006267624441534281\n",
            "Epoch: 380 Loss: 0.00610556174069643\n",
            "Epoch: 390 Loss: 0.0059478385373950005\n",
            "Epoch: 400 Loss: 0.005796224810183048\n",
            "Epoch: 410 Loss: 0.005651416257023811\n",
            "Epoch: 420 Loss: 0.005508034955710173\n",
            "Epoch: 430 Loss: 0.005371208768337965\n",
            "Epoch: 440 Loss: 0.005238288082182407\n",
            "Epoch: 450 Loss: 0.0051091560162603855\n",
            "Epoch: 460 Loss: 0.004983600694686174\n",
            "Epoch: 470 Loss: 0.004861819092184305\n",
            "Epoch: 480 Loss: 0.004743288736790419\n",
            "Epoch: 490 Loss: 0.004627928603440523\n",
            "Epoch: 500 Loss: 0.004515575245022774\n",
            "Epoch: 510 Loss: 0.004406223073601723\n",
            "Epoch: 520 Loss: 0.004299746826291084\n",
            "Epoch: 530 Loss: 0.004196078982204199\n",
            "Epoch: 540 Loss: 0.004095189273357391\n",
            "Epoch: 550 Loss: 0.003996941260993481\n",
            "Epoch: 560 Loss: 0.0039013358764350414\n",
            "Epoch: 570 Loss: 0.0038082797545939684\n",
            "Epoch: 580 Loss: 0.003717696527019143\n",
            "Epoch: 590 Loss: 0.0036295142490416765\n",
            "Epoch: 600 Loss: 0.0035438579507172108\n",
            "Epoch: 610 Loss: 0.0034694033674895763\n",
            "Epoch: 620 Loss: 0.0033823924604803324\n",
            "Epoch: 630 Loss: 0.0033036654349416494\n",
            "Epoch: 640 Loss: 0.003227416891604662\n",
            "Epoch: 650 Loss: 0.003154171397909522\n",
            "Epoch: 660 Loss: 0.00308262649923563\n",
            "Epoch: 670 Loss: 0.0030129996594041586\n",
            "Epoch: 680 Loss: 0.0029457812197506428\n",
            "Epoch: 690 Loss: 0.0028794852551072836\n",
            "Epoch: 700 Loss: 0.002816544147208333\n",
            "Epoch: 710 Loss: 0.0027535317931324244\n",
            "Epoch: 720 Loss: 0.002693634247407317\n",
            "Epoch: 730 Loss: 0.002635200973600149\n",
            "Epoch: 740 Loss: 0.0025771392975002527\n",
            "Epoch: 750 Loss: 0.0025215703062713146\n",
            "Epoch: 760 Loss: 0.0024671924766153097\n",
            "Epoch: 770 Loss: 0.0024141273461282253\n",
            "Epoch: 780 Loss: 0.0023624945897608995\n",
            "Epoch: 790 Loss: 0.0023122297134250402\n",
            "Epoch: 800 Loss: 0.002263363916426897\n",
            "Epoch: 810 Loss: 0.0022158659994602203\n",
            "Epoch: 820 Loss: 0.0021693254821002483\n",
            "Epoch: 830 Loss: 0.0021239817142486572\n",
            "Epoch: 840 Loss: 0.0020796728786081076\n",
            "Epoch: 850 Loss: 0.002036592923104763\n",
            "Epoch: 860 Loss: 0.0019944673404097557\n",
            "Epoch: 870 Loss: 0.001953365048393607\n",
            "Epoch: 880 Loss: 0.0019132557790726423\n",
            "Epoch: 890 Loss: 0.001874249428510666\n",
            "Epoch: 900 Loss: 0.0018360603135079145\n",
            "Epoch: 910 Loss: 0.0017989625921472907\n",
            "Epoch: 920 Loss: 0.0017627241322770715\n",
            "Epoch: 930 Loss: 0.0017272852128371596\n",
            "Epoch: 940 Loss: 0.001692877965979278\n",
            "Epoch: 950 Loss: 0.0016591413877904415\n",
            "Epoch: 960 Loss: 0.0016262208810076118\n",
            "Epoch: 970 Loss: 0.0015941193560138345\n",
            "Epoch: 980 Loss: 0.0015627588145434856\n",
            "Epoch: 990 Loss: 0.0015321460086852312\n"
          ]
        }
      ]
    },
    {
      "cell_type": "code",
      "source": [
        "# prompt: plot the loss\n",
        "\n",
        "\n",
        "\n",
        "plt.plot(losses)\n",
        "plt.xlabel('Epoch')\n",
        "plt.ylabel('Loss')\n",
        "plt.title('Training Loss')\n",
        "plt.show()\n"
      ],
      "metadata": {
        "colab": {
          "base_uri": "https://localhost:8080/",
          "height": 472
        },
        "id": "WFLXNO6D-V4-",
        "outputId": "5cfc7c17-01f8-44ac-aad2-ece90d42588a"
      },
      "execution_count": 43,
      "outputs": [
        {
          "output_type": "display_data",
          "data": {
            "text/plain": [
              "<Figure size 640x480 with 1 Axes>"
            ],
            "image/png": "[encoded data removed]"
          },
          "metadata": {}
        }
      ]
    },
    {
      "cell_type": "code",
      "source": [
        "# prompt: validate model on the test data set\n",
        "\n",
        "with torch.no_grad():\n",
        "    y_eval = model.forward(X_test)\n",
        "    loss = criterion(y_eval, y_test)\n",
        "print(f'{loss=}')\n",
        "y_eval = torch.argmax(y_eval, dim=1)\n",
        "#print(f'{y_eval=}')\n",
        "#y_test"
      ],
      "metadata": {
        "colab": {
          "base_uri": "https://localhost:8080/"
        },
        "id": "ASAajL4eES5J",
        "outputId": "ae0766f7-8a85-41cf-fd9a-50273bcaa97d"
      },
      "execution_count": 50,
      "outputs": [
        {
          "output_type": "stream",
          "name": "stdout",
          "text": [
            "loss=tensor(0.5746)\n",
            "y_eval=tensor([2, 2, 2, 1, 2, 1, 2, 1, 2, 2, 2, 0, 0, 1, 0, 1, 0, 2, 0, 0, 1, 2, 0, 0,\n",
            "        1, 1, 1, 1, 0, 1])\n"
          ]
        },
        {
          "output_type": "execute_result",
          "data": {
            "text/plain": [
              "tensor([2, 2, 2, 1, 2, 1, 2, 1, 2, 2, 2, 0, 0, 1, 0, 2, 0, 1, 0, 0, 1, 2, 0, 0,\n",
              "        1, 1, 1, 1, 0, 1])"
            ]
          },
          "metadata": {},
          "execution_count": 50
        }
      ]
    },
    {
      "cell_type": "code",
      "source": [
        "#Testing with a new data point\n",
        "new_iris = torch.tensor([4.7,3.3, 1.3, 0.7])"
      ],
      "metadata": {
        "id": "Jorozl8wJ6Qw"
      },
      "execution_count": 53,
      "outputs": []
    },
    {
      "cell_type": "code",
      "source": [
        "with torch.no_grad():\n",
        "    prediction = model.forward(new_iris)\n",
        "    print(f'{prediction=}')\n"
      ],
      "metadata": {
        "id": "jaI89t1MKTyx",
        "outputId": "8463ec94-4f14-4a4e-c3b6-2c34c2f0ba91",
        "colab": {
          "base_uri": "https://localhost:8080/"
        }
      },
      "execution_count": 55,
      "outputs": [
        {
          "output_type": "stream",
          "name": "stdout",
          "text": [
            "prediction=tensor([ 51.6667,  42.7994, -78.6533])\n"
          ]
        }
      ]
    }
  ]
}